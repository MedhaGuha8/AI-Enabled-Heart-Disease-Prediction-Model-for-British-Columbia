{
  "nbformat": 4,
  "nbformat_minor": 0,
  "metadata": {
    "colab": {
      "provenance": [],
      "include_colab_link": true
    },
    "kernelspec": {
      "name": "python3",
      "display_name": "Python 3"
    },
    "language_info": {
      "name": "python"
    }
  },
  "cells": [
    {
      "cell_type": "markdown",
      "metadata": {
        "id": "view-in-github",
        "colab_type": "text"
      },
      "source": [
        "<a href=\"https://colab.research.google.com/github/MedhaGuha8/AI-Enabled-Heart-Disease-Prediction-Model-for-British-Columbia/blob/main/ECE_470_Project.ipynb\" target=\"_parent\"><img src=\"https://colab.research.google.com/assets/colab-badge.svg\" alt=\"Open In Colab\"/></a>"
      ]
    },
    {
      "cell_type": "markdown",
      "source": [
        "#ECE 470 Project\n",
        "##AI-Enabled Heart Disease Prediction Model for British Columbia\n",
        "###Team: Binary Buffoons\n",
        "###Ben Fisher (V00998691)\n",
        "###Medha Guha (V00999347)\n",
        "###Rudra Aryan Potluri (V00944980)\n",
        "###Vaishakh Vinod Menon (V00939019)\n"
      ],
      "metadata": {
        "id": "Xex_djJn_hWP"
      }
    },
    {
      "cell_type": "markdown",
      "source": [
        "The following notebook contains all the code and comments included for the implementation for the Heart Disease Prediction Model\n"
      ],
      "metadata": {
        "id": "wsaGztMzAjPG"
      }
    },
    {
      "cell_type": "code",
      "source": [
        "from google.colab import drive\n",
        "drive.mount('/content/drive')"
      ],
      "metadata": {
        "colab": {
          "base_uri": "https://localhost:8080/"
        },
        "id": "S56vbQbuOyUm",
        "outputId": "a05bac4e-2f2f-405c-9531-c758bf5dae9a"
      },
      "execution_count": null,
      "outputs": [
        {
          "output_type": "stream",
          "name": "stdout",
          "text": [
            "Mounted at /content/drive\n"
          ]
        }
      ]
    },
    {
      "cell_type": "markdown",
      "source": [
        "The following libraries and packages will be used in this implementation:"
      ],
      "metadata": {
        "id": "O-DnZQIHuTM8"
      }
    },
    {
      "cell_type": "code",
      "source": [
        "import os\n",
        "import pandas as pd\n",
        "import numpy as np\n",
        "import scipy\n",
        "from scipy.stats import zscore\n",
        "\n",
        "from pandas import Series, DataFrame\n",
        "from scipy.stats import spearmanr\n",
        "from pylab import rcParams\n",
        "import seaborn as sb\n",
        "import matplotlib.pyplot as plt\n",
        "\n",
        "import sklearn\n",
        "from sklearn.preprocessing import scale\n",
        "from sklearn.linear_model import LogisticRegression\n",
        "from sklearn.model_selection import train_test_split\n",
        "from sklearn.metrics import classification_report\n",
        "from sklearn import metrics\n",
        "from sklearn import preprocessing\n",
        "from sklearn.model_selection import cross_val_score"
      ],
      "metadata": {
        "id": "wX7OWFGVuZfb"
      },
      "execution_count": null,
      "outputs": []
    },
    {
      "cell_type": "markdown",
      "source": [
        "Preprocessing data:"
      ],
      "metadata": {
        "id": "pEz0BJVmPQ0N"
      }
    },
    {
      "cell_type": "code",
      "source": [
        "def preprocess(dataset, column_title, zscore_threshold=3):\n",
        "\n",
        "    # Calculating zscores values\n",
        "    z_scores = zscore(dataset[column_title])\n",
        "\n",
        "    # Finding outliers using the zscore values\n",
        "    outliers_index = ((z_scores > zscore_threshold) | (z_scores < -zscore_threshold))\n",
        "\n",
        "    # This function removes the rows of data that contain outliers\n",
        "    dataset = dataset[~outliers_index]\n",
        "\n",
        "    # Save the preprocessed csv file as 'preprocessed_file.csv'\n",
        "    dataset.to_csv('preprocessed_file.csv', index=False)\n",
        "\n",
        "    return dataset, np.sum(outliers_index)\n",
        "\n",
        "\n",
        "\n",
        "# Desired columns to be preprocessed\n",
        "column_title1 = 'chol'\n",
        "column_title2 = 'thalach'\n",
        "\n",
        "#Keep this, better accuracy\n",
        "column_title3 = 'oldpeak'\n",
        "\n",
        "column_title4 = 'ca'\n",
        "column_title5= 'age'\n",
        "column_title6 = 'trestbps'\n",
        "column_title7 = 'restecg'\n",
        "column_title8 = 'oldpeak'\n",
        "column_title9 = 'thal'\n",
        "column_title10 = 'sex'\n",
        "column_title11 = 'cp'\n",
        "column_title12 = 'fbs'\n",
        "column_title13 = 'exang'\n",
        "column_title14 = 'slope'\n",
        "\n",
        "# Zscore threshold\n",
        "zscore_threshold = 2.5\n",
        "\n",
        "# Reading the unprocessed csv file\n",
        "data = pd.read_csv('heart_unprocessed.csv')\n",
        "\n",
        "# Preprocessing the data according to 'chol' outliers\n",
        "data, outliers1 = preprocess(data, column_title1, zscore_threshold)\n",
        "\n",
        "# Preprocessing the data according to 'thalach' outliers\n",
        "data, outliers2 = preprocess(data, column_title2, zscore_threshold)\n",
        "\n",
        "\n",
        "data, outliers3 = preprocess(data, column_title3, zscore_threshold)\n",
        "data, outliers4 = preprocess(data, column_title4, zscore_threshold)\n",
        "data, outliers5 = preprocess(data, column_title5, zscore_threshold)\n",
        "data, outliers6 = preprocess(data, column_title6, zscore_threshold)\n",
        "data, outliers7 = preprocess(data, column_title7, zscore_threshold)\n",
        "data, outliers8 = preprocess(data, column_title8, zscore_threshold)\n",
        "data, outliers9 = preprocess(data, column_title9, zscore_threshold)\n",
        "data, outliers10 = preprocess(data, column_title10, zscore_threshold)\n",
        "data, outliers11 = preprocess(data, column_title11, zscore_threshold)\n",
        "data, outliers12 = preprocess(data, column_title12, zscore_threshold)\n",
        "data, outliers13 = preprocess(data, column_title13, zscore_threshold)\n",
        "data, outliers14 = preprocess(data, column_title14, zscore_threshold)\n",
        "\n",
        "# Sum of the outliers dropped from both features\n",
        "outlier_total = outliers1 + outliers2 + outliers3 + outliers4+outliers5+outliers6+outliers7+outliers8+outliers9+outliers10+outliers11+outliers12+outliers13+outliers14\n",
        "\n",
        "print(f\"Number of outliers removed: {outlier_total}\")"
      ],
      "metadata": {
        "colab": {
          "base_uri": "https://localhost:8080/"
        },
        "id": "qy4thYClJrxh",
        "outputId": "ffd04ec5-043f-41bd-c384-9f49e602dd04"
      },
      "execution_count": null,
      "outputs": [
        {
          "output_type": "stream",
          "name": "stdout",
          "text": [
            "Number of outliers removed: 126\n"
          ]
        }
      ]
    },
    {
      "cell_type": "code",
      "source": [
        "\n",
        "\n",
        "file_path = os.path.join('/content', 'heart_unprocessed.csv')\n",
        "\n",
        "data = pd.read_csv(file_path)\n",
        "\n",
        "# print(data.shape)\n",
        "\n",
        "# print(data.head())\n",
        "# print(data.tail())\n",
        "\n",
        "missing_values = data.isnull().sum()\n",
        "#print(missing_values)\n",
        "\n",
        "numerical_columns = data.select_dtypes(include=['int64', 'float64']).columns\n",
        "# for col in numerical_columns:\n",
        "#   IQR = data[col].quantile(0.75) - data[col].quantile(0.25)\n",
        "#   lower_bound = data[col].quantile(0.25) - 1.5 * IQR\n",
        "#   upper_bound = data[col].quantile(0.75) + 1.5 * IQR\n",
        "#   outliers = data[~((data[col] >= lower_bound) & (data[col] <= upper_bound))]\n",
        "#   print(f\"Outliers in {col}: {outliers.shape[0]}\")\n",
        "\n",
        "zscore_threshold = 2.5  # Any data point with z-score greater than this threshold is considered an outlier\n",
        "\n",
        "for col in numerical_columns:\n",
        "    # Calculate z-scores for each data point in the column\n",
        "    z_scores = zscore(data[col])\n",
        "\n",
        "    # Find outliers using z-scores\n",
        "    outliers = data[(z_scores > zscore_threshold) | (z_scores < -zscore_threshold)]\n",
        "\n",
        "    # Print number of outliers\n",
        "    print(f\"Outliers in {col}: {outliers.shape[0]}\")\n"
      ],
      "metadata": {
        "colab": {
          "base_uri": "https://localhost:8080/"
        },
        "id": "c3xws2c3AvbK",
        "outputId": "a13d8165-275d-4531-958c-a4829c6c2088"
      },
      "execution_count": null,
      "outputs": [
        {
          "output_type": "stream",
          "name": "stdout",
          "text": [
            "Outliers in age: 4\n",
            "Outliers in sex: 0\n",
            "Outliers in cp: 0\n",
            "Outliers in trestbps: 24\n",
            "Outliers in chol: 16\n",
            "Outliers in fbs: 0\n",
            "Outliers in restecg: 15\n",
            "Outliers in thalach: 10\n",
            "Outliers in exang: 0\n",
            "Outliers in oldpeak: 17\n",
            "Outliers in slope: 0\n",
            "Outliers in ca: 18\n",
            "Outliers in thal: 7\n",
            "Outliers in target: 0\n"
          ]
        }
      ]
    },
    {
      "cell_type": "markdown",
      "source": [
        "Main where the logistic regression model will implemented:"
      ],
      "metadata": {
        "id": "Ha_v1h6tO-eM"
      }
    },
    {
      "cell_type": "code",
      "source": [
        "# Setting the figure size and style\n",
        "rcParams['figure.figsize'] = 5, 4\n",
        "sb.set_style(('whitegrid'))\n",
        "\n",
        "# Reading the preprocessed csv file\n",
        "heart = pd.read_csv('preprocessed_file.csv')\n",
        "\n",
        "heart_data = heart.loc[:, ('age', 'sex', 'cp', 'trestbps', 'chol', 'fbs', 'restecg', 'thalach', 'exang', 'oldpeak', 'slope', 'ca', 'thal')].values\n",
        "\n",
        "heart_data_names = ['cp', 'ca']\n",
        "\n",
        "y = heart.loc[:, 'target'].values\n",
        "# print(y)\n",
        "\n",
        "# X = heart.drop('target', axis=1)\n",
        "# y = heart['target']\n",
        "\n",
        "# This plots the two data sources to determine the dependence between them\n",
        "sb.regplot(x='cp', y='ca', data=heart, scatter=True)\n",
        "plt.show()\n",
        "\n",
        "\n",
        "# Calculating of the correlation coefficient\n",
        "cp = heart['cp']\n",
        "ca = heart['ca']\n",
        "correlation_coefficient, p_value = spearmanr(cp, ca)\n",
        "print('Correlation Coefficient: ', correlation_coefficient, 'p value: ' ,p_value, '\\n')\n",
        "\n",
        "# Checking to see if any data is missing from dataset\n",
        "print(heart.isnull().sum())\n",
        "\n",
        "# Checking that the target (actually named target in data) is binary or ordinal\n",
        "sb.countplot(x='target', hue='target', data=heart, palette='hls', legend=False)\n",
        "plt.show()\n",
        "\n",
        "print(heart.info(), '\\n')\n",
        "\n",
        "# Deploying Logistic Regression Model\n",
        "X = scale(heart_data)\n",
        "# X = scale(heart)\n",
        "\n",
        "# Splitting the data into training and testing sets (80-20 split)\n",
        "X_train, X_test, y_train, y_test = train_test_split(X, y, test_size=0.2, random_state=42)\n",
        "\n",
        "# Training the logistic regression model\n",
        "LogReg_model = LogisticRegression()\n",
        "LogReg_model.fit(X_train, y_train)\n",
        "\n",
        "\n",
        "#Checking cross validation score of model to ensure model is not overfitting\n",
        "#Using k fold cross validation\n",
        "cross_validation_scores = cross_val_score(LogReg_model, X_train, y_train, cv=10)\n",
        "print(\"Cross-validation scores:\", cross_validation_scores)\n",
        "print(\"Mean of cross-validation score:\", cross_validation_scores.mean(), '\\n')\n",
        "\n",
        "# Printing training and testing accuracy\n",
        "print(\"Training Accuracy:\", LogReg_model.score(X_train, y_train))\n",
        "print(\"Testing Accuracy:\", LogReg_model.score(X_test, y_test))\n",
        "\n",
        "# Prediction using logistic regression model\n",
        "y_pred = LogReg_model.predict(X_test)\n",
        "\n",
        "print(classification_report(y_test, y_pred))"
      ],
      "metadata": {
        "colab": {
          "base_uri": "https://localhost:8080/",
          "height": 1000
        },
        "id": "vsgxvJFGPVVU",
        "outputId": "09837897-d7cf-4cdf-8bd7-424ca78490f1"
      },
      "execution_count": null,
      "outputs": [
        {
          "output_type": "display_data",
          "data": {
            "text/plain": [
              "<Figure size 500x400 with 1 Axes>"
            ],
            "image/png": "[encoded data removed]"
          },
          "metadata": {}
        },
        {
          "output_type": "stream",
          "name": "stdout",
          "text": [
            "Correlation Coefficient:  -0.20236199554293535 p value:  9.212106848537152e-10 \n",
            "\n",
            "age         0\n",
            "sex         0\n",
            "cp          0\n",
            "trestbps    0\n",
            "chol        0\n",
            "fbs         0\n",
            "restecg     0\n",
            "thalach     0\n",
            "exang       0\n",
            "oldpeak     0\n",
            "slope       0\n",
            "ca          0\n",
            "thal        0\n",
            "target      0\n",
            "dtype: int64\n"
          ]
        },
        {
          "output_type": "display_data",
          "data": {
            "text/plain": [
              "<Figure size 500x400 with 1 Axes>"
            ],
            "image/png": "[encoded data removed]"
          },
          "metadata": {}
        },
        {
          "output_type": "stream",
          "name": "stdout",
          "text": [
            "<class 'pandas.core.frame.DataFrame'>\n",
            "RangeIndex: 899 entries, 0 to 898\n",
            "Data columns (total 14 columns):\n",
            " #   Column    Non-Null Count  Dtype  \n",
            "---  ------    --------------  -----  \n",
            " 0   age       899 non-null    int64  \n",
            " 1   sex       899 non-null    int64  \n",
            " 2   cp        899 non-null    int64  \n",
            " 3   trestbps  899 non-null    int64  \n",
            " 4   chol      899 non-null    int64  \n",
            " 5   fbs       899 non-null    int64  \n",
            " 6   restecg   899 non-null    int64  \n",
            " 7   thalach   899 non-null    int64  \n",
            " 8   exang     899 non-null    int64  \n",
            " 9   oldpeak   899 non-null    float64\n",
            " 10  slope     899 non-null    int64  \n",
            " 11  ca        899 non-null    int64  \n",
            " 12  thal      899 non-null    int64  \n",
            " 13  target    899 non-null    int64  \n",
            "dtypes: float64(1), int64(13)\n",
            "memory usage: 98.5 KB\n",
            "None \n",
            "\n",
            "Cross-validation scores: [0.84722222 0.88888889 0.93055556 0.86111111 0.81944444 0.88888889\n",
            " 0.88888889 0.875      0.83333333 0.84507042]\n",
            "Mean of cross-validation score: 0.8678403755868545 \n",
            "\n",
            "Training Accuracy: 0.8803894297635605\n",
            "Testing Accuracy: 0.8555555555555555\n",
            "              precision    recall  f1-score   support\n",
            "\n",
            "           0       0.84      0.79      0.82        73\n",
            "           1       0.86      0.90      0.88       107\n",
            "\n",
            "    accuracy                           0.86       180\n",
            "   macro avg       0.85      0.85      0.85       180\n",
            "weighted avg       0.86      0.86      0.85       180\n",
            "\n"
          ]
        }
      ]
    }
  ]
}